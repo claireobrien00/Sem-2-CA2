{
 "cells": [
  {
   "cell_type": "code",
   "execution_count": 1,
   "id": "ba702f29",
   "metadata": {},
   "outputs": [],
   "source": [
    "# !pip install cassandra-driver pandas"
   ]
  },
  {
   "cell_type": "code",
   "execution_count": 2,
   "id": "de8a75a4",
   "metadata": {},
   "outputs": [],
   "source": [
    "from cassandra.cluster import Cluster\n",
    "import pandas as pd\n",
    "\n",
    "# Connect to your Cassandra cluster\n",
    "cluster = Cluster(['127.0.0.1'])  # Replace with your Cassandra host IP\n",
    "session = cluster.connect('ca2')"
   ]
  },
  {
   "cell_type": "code",
   "execution_count": 3,
   "id": "d9d861e7",
   "metadata": {},
   "outputs": [],
   "source": [
    "from cassandra.cluster import Cluster\n",
    "import pandas as pd\n",
    "\n",
    "query = \"SELECT * FROM tweets_data\"  # Replace with your table name\n",
    "rows = session.execute(query)"
   ]
  },
  {
   "cell_type": "code",
   "execution_count": 4,
   "id": "e8d5e671",
   "metadata": {},
   "outputs": [],
   "source": [
    "data = pd.DataFrame(rows._current_rows)\n",
    "data.to_csv('tweet_data_cassandra', index=False)"
   ]
  },
  {
   "cell_type": "code",
   "execution_count": 5,
   "id": "008aa1b1",
   "metadata": {},
   "outputs": [],
   "source": [
    "# Close the connection\n",
    "session.shutdown()\n",
    "cluster.shutdown()"
   ]
  },
  {
   "cell_type": "code",
   "execution_count": 6,
   "id": "c8bf293b",
   "metadata": {},
   "outputs": [
    {
     "name": "stdout",
     "output_type": "stream",
     "text": [
      "2.2.2b1\n"
     ]
    }
   ],
   "source": [
    "import mysql.connector\n",
    "print(mysql.connector.__version__)"
   ]
  },
  {
   "cell_type": "code",
   "execution_count": 7,
   "id": "9a333618-e879-4128-8f1c-d3480c8c5c75",
   "metadata": {},
   "outputs": [
    {
     "name": "stderr",
     "output_type": "stream",
     "text": [
      "24/10/28 15:24:00 WARN SparkSession: Using an existing Spark session; only runtime SQL configurations will take effect.\n"
     ]
    }
   ],
   "source": [
    "import pymysql\n",
    "import pandas as pd\n",
    "from pyspark.sql import SparkSession\n",
    "\n",
    "appName = \"PySpark MySQL Example - via pymysql\"\n",
    "master = \"local\"\n",
    "\n",
    "spark = SparkSession.builder.master(master).appName(appName).getOrCreate()\n",
    "\n",
    "# Establish a connection\n",
    "conn = pymysql.connect(user='root', database='CA2',\n",
    "                       password='password',\n",
    "                       host=\"localhost\",\n",
    "                       port=3306)"
   ]
  },
  {
   "cell_type": "code",
   "execution_count": 8,
   "id": "c493d428-7b67-4cde-a1a0-ff7de807fe6d",
   "metadata": {},
   "outputs": [
    {
     "name": "stderr",
     "output_type": "stream",
     "text": [
      "/tmp/ipykernel_5050/714388604.py:3: UserWarning: pandas only supports SQLAlchemy connectable (engine/connection) or database string URI or sqlite3 DBAPI2 connection. Other DBAPI2 objects are not tested. Please consider using SQLAlchemy.\n",
      "  pdf_AAPL = pd.read_sql(query_AAPL, con=conn)\n",
      "/tmp/ipykernel_5050/714388604.py:11: UserWarning: pandas only supports SQLAlchemy connectable (engine/connection) or database string URI or sqlite3 DBAPI2 connection. Other DBAPI2 objects are not tested. Please consider using SQLAlchemy.\n",
      "  pdf_TSLA = pd.read_sql(query_TSLA, con=conn)\n",
      "/tmp/ipykernel_5050/714388604.py:19: UserWarning: pandas only supports SQLAlchemy connectable (engine/connection) or database string URI or sqlite3 DBAPI2 connection. Other DBAPI2 objects are not tested. Please consider using SQLAlchemy.\n",
      "  pdf_DIS = pd.read_sql(query_DIS, con=conn)\n",
      "/tmp/ipykernel_5050/714388604.py:27: UserWarning: pandas only supports SQLAlchemy connectable (engine/connection) or database string URI or sqlite3 DBAPI2 connection. Other DBAPI2 objects are not tested. Please consider using SQLAlchemy.\n",
      "  pdf_BA = pd.read_sql(query_BA, con=conn)\n",
      "/tmp/ipykernel_5050/714388604.py:35: UserWarning: pandas only supports SQLAlchemy connectable (engine/connection) or database string URI or sqlite3 DBAPI2 connection. Other DBAPI2 objects are not tested. Please consider using SQLAlchemy.\n",
      "  pdf_AMZN = pd.read_sql(query_AMZN, con=conn)\n"
     ]
    }
   ],
   "source": [
    "query_AAPL = \"SELECT * FROM AAPL\"\n",
    "# Create a pandas dataframe\n",
    "pdf_AAPL = pd.read_sql(query_AAPL, con=conn)\n",
    "pdf_AAPL.to_csv('AAPL_Spark_SQL', index=False)\n",
    "\n",
    "# Convert Pandas dataframe to spark DataFrame\n",
    "# df_AAPL = spark.createDataFrame(pdf_AAPL)\n",
    "\n",
    "query_TSLA = \"SELECT * FROM TSLA\"\n",
    "# Create a pandas dataframe\n",
    "pdf_TSLA = pd.read_sql(query_TSLA, con=conn)\n",
    "pdf_TSLA.to_csv('TSLA_Spark_SQL', index=False)\n",
    "\n",
    "# Convert Pandas dataframe to spark DataFrame\n",
    "# df_TSLA = spark.createDataFrame(pdf_TSLA)\n",
    "\n",
    "query_DIS = \"SELECT * FROM DIS\"\n",
    "# Create a pandas dataframe\n",
    "pdf_DIS = pd.read_sql(query_DIS, con=conn)\n",
    "pdf_DIS.to_csv('DIS_Spark_SQL', index=False)\n",
    "\n",
    "# Convert Pandas dataframe to spark DataFrame\n",
    "# df_DIS = spark.createDataFrame(pdf_DIS)\n",
    "\n",
    "query_BA = \"SELECT * FROM BA\"\n",
    "# Create a pandas dataframe\n",
    "pdf_BA = pd.read_sql(query_BA, con=conn)\n",
    "pdf_BA.to_csv('BA_Spark_SQL', index=False)\n",
    "\n",
    "# Convert Pandas dataframe to spark DataFrame\n",
    "# df_BA = spark.createDataFrame(pdf_BA)\n",
    "\n",
    "query_AMZN = \"SELECT * FROM AMZN\"\n",
    "# Create a pandas dataframe\n",
    "pdf_AMZN = pd.read_sql(query_AMZN, con=conn)\n",
    "pdf_AMZN.to_csv('AMZN_Spark_SQL', index=False)\n",
    "\n",
    "# Convert Pandas dataframe to spark DataFrame\n",
    "# df_AMZN = spark.createDataFrame(pdf_AMZN)"
   ]
  },
  {
   "cell_type": "code",
   "execution_count": 9,
   "id": "f893d7bf-6285-4562-875e-92630fd5bac8",
   "metadata": {},
   "outputs": [],
   "source": [
    "conn.close()"
   ]
  }
 ],
 "metadata": {
  "kernelspec": {
   "display_name": "Python 3 (ipykernel)",
   "language": "python",
   "name": "python3"
  },
  "language_info": {
   "codemirror_mode": {
    "name": "ipython",
    "version": 3
   },
   "file_extension": ".py",
   "mimetype": "text/x-python",
   "name": "python",
   "nbconvert_exporter": "python",
   "pygments_lexer": "ipython3",
   "version": "3.12.3"
  }
 },
 "nbformat": 4,
 "nbformat_minor": 5
}
